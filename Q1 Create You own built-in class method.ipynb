{
 "cells": [
  {
   "cell_type": "markdown",
   "id": "faf8fd73",
   "metadata": {},
   "source": [
    "Write a Python class to implement pow(x, n)\n",
    "\n",
    "Explanation:\n",
    "\n",
    "Use should be able to find the nth power of the x.(i.e x*x*x*x...n times)\n",
    "\n",
    "You must implement it using Class\n",
    "\n",
    "Sample Input:\n",
    "\n",
    "x: 10\n",
    "\n",
    "n: 2\n",
    "\n",
    "Sample Output:\n",
    "\n",
    "100"
   ]
  },
  {
   "cell_type": "code",
   "execution_count": 1,
   "id": "e7ddb07b",
   "metadata": {},
   "outputs": [
    {
     "name": "stdout",
     "output_type": "stream",
     "text": [
      "Enter the value10\n",
      "Enter the power value2\n",
      "100\n"
     ]
    }
   ],
   "source": [
    "class pow:\n",
    "    def __init__(self):\n",
    "        self.val = int(input(\"Enter the value\"))\n",
    "        self.mul = int(input(\"Enter the power value\"))\n",
    "       \n",
    "    def power(self):\n",
    "         return self.val ** self.mul\n",
    "check = pow()\n",
    "\n",
    "print(check.power())"
   ]
  }
 ],
 "metadata": {
  "kernelspec": {
   "display_name": "Python 3 (ipykernel)",
   "language": "python",
   "name": "python3"
  },
  "language_info": {
   "codemirror_mode": {
    "name": "ipython",
    "version": 3
   },
   "file_extension": ".py",
   "mimetype": "text/x-python",
   "name": "python",
   "nbconvert_exporter": "python",
   "pygments_lexer": "ipython3",
   "version": "3.10.1"
  }
 },
 "nbformat": 4,
 "nbformat_minor": 5
}
